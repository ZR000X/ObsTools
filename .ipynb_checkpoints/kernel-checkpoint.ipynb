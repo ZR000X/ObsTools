{
 "cells": [
  {
   "cell_type": "code",
   "execution_count": 1,
   "id": "b58b947e-ca09-422b-a0bb-6e2a4774d977",
   "metadata": {},
   "outputs": [],
   "source": [
    "import obstools as ot\n",
    "import pprint as pp\n",
    "\n",
    "names_to_aliases = ot.get_names_to_aliases(\"C://Users//zrfir//OneDrive//____OBSIDIAN//PUBLIC\")\n",
    "# ot.printd(names_to_aliases[0])\n",
    "    "
   ]
  },
  {
   "cell_type": "code",
   "execution_count": 12,
   "id": "477395ac-a0fd-4ae0-8900-bc1451ae8de8",
   "metadata": {},
   "outputs": [
    {
     "data": {
      "text/plain": [
       "'hello.h'"
      ]
     },
     "execution_count": 12,
     "metadata": {},
     "output_type": "execute_result"
    }
   ],
   "source": [
    "k = [\"hello.h\"]\n",
    "s = k[0][::-1][:k[0][::-1].find(\".\")+1][::-1]\n",
    "k[0] + \".md\" if s == \"\" else \"\"\n",
    "k[0]\n"
   ]
  },
  {
   "cell_type": "code",
   "execution_count": null,
   "id": "d992bf12-135d-4d7c-9f1d-11034820d4a0",
   "metadata": {},
   "outputs": [],
   "source": [
    "import obstools as ot\n",
    "from pathlib import Path\n",
    "import json\n",
    "import networkx as nx\n",
    "\n",
    "class VaultExhaustive:\n",
    "    def __init__(self, vault_dir = None, file_name = None, make_json = 0.5):\n",
    "        if not vault_dir is None:\n",
    "            self.vault_dir = Path(vault_dir)\n",
    "            self.all_paths = ot.get_all_paths(vault_dir)\n",
    "            self.names_to_paths = ot.get_names_to_paths(self.all_paths)\n",
    "            names_to_links_results = ot.get_names_to_links(self.names_to_paths)\n",
    "            self.names_to_links = names_to_links_results[0]\n",
    "            self.reading_errors = names_to_links_results[1]\n",
    "            self.json = None\n",
    "            if not file_name is None:\n",
    "                self.file_name = Path(file_name)\n",
    "                if make_json == 0.5:\n",
    "                    if self.file_name.is_file():\n",
    "                        try: \n",
    "                            with open(self.file_name, 'r') as ofile:\n",
    "                                self.json = json.load(ofile)\n",
    "                            make_json = False\n",
    "                        except:\n",
    "                            make_json = True\n",
    "                    else:\n",
    "                        make_json = True\n",
    "                if make_json:\n",
    "                    self.dump_errors = ot.produce_json_of_vault(self.vault_dir, self.file_name)\n",
    "                    with open(self.file_name, 'r') as ofile:\n",
    "                        self.json = json.load(ofile)\n",
    "            self.mapping = dict()\n",
    "            if type(self.json) is dict:\n",
    "                self.mapping = ot.get_mapping_from_json(self.json)\n",
    "\n",
    "v = VaultExhaustive(\"C://Users//zrfir//OneDrive//__Obsidian//PUBLIC\", \"2022-02-02_Obsidian_2.json\", 1)"
   ]
  }
 ],
 "metadata": {
  "kernelspec": {
   "display_name": "Python 3 (ipykernel)",
   "language": "python",
   "name": "python3"
  },
  "language_info": {
   "codemirror_mode": {
    "name": "ipython",
    "version": 3
   },
   "file_extension": ".py",
   "mimetype": "text/x-python",
   "name": "python",
   "nbconvert_exporter": "python",
   "pygments_lexer": "ipython3",
   "version": "3.8.12"
  }
 },
 "nbformat": 4,
 "nbformat_minor": 5
}
