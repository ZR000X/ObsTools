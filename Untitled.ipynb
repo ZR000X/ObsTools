{
 "cells": [
  {
   "cell_type": "code",
   "execution_count": 26,
   "id": "29a08966-2c6e-46d1-9a26-31ed8a073721",
   "metadata": {},
   "outputs": [
    {
     "data": {
      "text/plain": [
       "{}"
      ]
     },
     "execution_count": 26,
     "metadata": {},
     "output_type": "execute_result"
    }
   ],
   "source": [
    "from obstools import *\n",
    "\n",
    "produce_json_of_vault(\"C://Users//zrfir//OneDrive//__Obsidian//PUBLIC\", \"MYVAULT2.json\")"
   ]
  },
  {
   "cell_type": "code",
   "execution_count": 27,
   "id": "dd61aaee-cf98-4a34-a39e-30cb059a60bb",
   "metadata": {},
   "outputs": [],
   "source": [
    "names_to_names = get_names_to_valid_links_from_file(\"MYVAULT2.json\") "
   ]
  },
  {
   "cell_type": "code",
   "execution_count": 29,
   "id": "59c2175c-48e8-459a-aa8b-29911c75e304",
   "metadata": {},
   "outputs": [],
   "source": [
    "from networkx import DiGraph\n",
    "\n",
    "graph = DiGraph(names_to_names)"
   ]
  },
  {
   "cell_type": "code",
   "execution_count": 30,
   "id": "e2962e04-4452-4b82-9eef-96f11e12fcf4",
   "metadata": {},
   "outputs": [
    {
     "name": "stdout",
     "output_type": "stream",
     "text": [
      "DiGraph with 2428 nodes and 5715 edges\n"
     ]
    }
   ],
   "source": [
    "print(graph)"
   ]
  },
  {
   "cell_type": "code",
   "execution_count": null,
   "id": "f57dba33-4e09-4899-9f05-70be56c19448",
   "metadata": {},
   "outputs": [],
   "source": []
  }
 ],
 "metadata": {
  "kernelspec": {
   "display_name": "Python 3 (ipykernel)",
   "language": "python",
   "name": "python3"
  },
  "language_info": {
   "codemirror_mode": {
    "name": "ipython",
    "version": 3
   },
   "file_extension": ".py",
   "mimetype": "text/x-python",
   "name": "python",
   "nbconvert_exporter": "python",
   "pygments_lexer": "ipython3",
   "version": "3.7.0"
  }
 },
 "nbformat": 4,
 "nbformat_minor": 5
}
